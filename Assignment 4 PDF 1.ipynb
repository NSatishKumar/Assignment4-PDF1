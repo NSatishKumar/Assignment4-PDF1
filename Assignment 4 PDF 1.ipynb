{
 "cells": [
  {
   "cell_type": "markdown",
   "metadata": {},
   "source": [
    "## Problem Statement 1:  \n",
    "\n",
    "Write  a  function  so  that  the  columns  of  the  output  matrix  are  powers  of  the  input vector.   \n",
    "The order of the powers is determined by the increasing boolean argument. Specifically, when  increasing  is  False, \n",
    "the  i-th output column  is the input vector raised element-wise to the power of N - i - 1.   \n",
    "\n",
    "            HINT:  Such  a  matrix with a geometric  progression  in each  row  is  named for Alexandre-  \n",
    "            Theophile Vandermonde.    \n",
    "            \n",
    "            Note: Solution submitted via github must contain all the detailed steps. "
   ]
  },
  {
   "cell_type": "code",
   "execution_count": 6,
   "metadata": {},
   "outputs": [
    {
     "name": "stdout",
     "output_type": "stream",
     "text": [
      "Enter the input vector with comma separated 1,2,3,4,5\n",
      "Enter the n vlaue(integer) or enter None None\n",
      "\n",
      "Vandermonde Matrix in increasing order is False\n",
      "[[  1   1   1   1   1]\n",
      " [ 16   8   4   2   1]\n",
      " [ 81  27   9   3   1]\n",
      " [256  64  16   4   1]\n",
      " [625 125  25   5   1]]\n",
      "\n",
      "Vandermonde Matrix in increasing order  is True\n",
      "[[  1   1   1   1   1]\n",
      " [  1   2   4   8  16]\n",
      " [  1   3   9  27  81]\n",
      " [  1   4  16  64 256]\n",
      " [  1   5  25 125 625]]\n"
     ]
    }
   ],
   "source": [
    "# Wihtout usiing in built function\n",
    "import numpy as np                                                          # importing the numpy\n",
    "inpArr=input(\"Enter the input vector with comma separated \")                 # input vector\n",
    "inpArr=inpArr.split(',')\n",
    "inpArrnew=[int(item) for item in inpArr]\n",
    "                                                  \n",
    "n=input(\"Enter the n vlaue(integer) or enter None \")                         # geometric progression n value \n",
    "if(n==\"None\"):                                                               # checking the N value\n",
    "    itr=range(len(inpArrnew)) \n",
    "    n=len(inpArrnew)\n",
    "else:\n",
    "    itr=range(int(n)) \n",
    "    n=int(n)\n",
    "itr=[item for item in itr]\n",
    "rev=itr[::-1]\n",
    "outputFal=np.asarray([inp**itrval for itrval in rev for inp in inpArrnew])   # Generating the values as per Geometric progression\n",
    "outputFal=outputFal.reshape(n,len(inpArrnew))                                # reshaping the array\n",
    "print(\"\\nVandermonde Matrix in increasing order is False\")\n",
    "outFal=outputFal.transpose()\n",
    "print(outFal)                                                               # output array\n",
    "\n",
    "outputVal=np.asarray([inp**itrval for itrval in itr for inp in inpArrnew])   # Generating the values as per Geometric progression\n",
    "outputVal=outputVal.reshape(n,len(inpArrnew))                                # reshaping the array\n",
    "print(\"\\nVandermonde Matrix in increasing order  is True\")\n",
    "outval=outputVal.transpose()\n",
    "print(outval)                                                               # output array"
   ]
  },
  {
   "cell_type": "code",
   "execution_count": 7,
   "metadata": {},
   "outputs": [
    {
     "name": "stdout",
     "output_type": "stream",
     "text": [
      "Vandermonde Matrix when increasing order is False \n",
      "[[  1   1   1   1   1]\n",
      " [ 16   8   4   2   1]\n",
      " [ 81  27   9   3   1]\n",
      " [256  64  16   4   1]\n",
      " [625 125  25   5   1]]\n",
      "Vandermonde Matrix when increasing order is True \n",
      "[[  1   1   1   1   1]\n",
      " [ 16   8   4   2   1]\n",
      " [ 81  27   9   3   1]\n",
      " [256  64  16   4   1]\n",
      " [625 125  25   5   1]]\n"
     ]
    }
   ],
   "source": [
    "#Function using numpy.vander() function\n",
    "import numpy as np\n",
    "def vanderMatrix(inputVec,N):\n",
    "    inputArray = np.array(inputVec)\n",
    "    if(N!=None):                                                   # when N is defined  \n",
    "        outputArray = np.vander(inputArray, N, increasing=False)   # creating vander matrix when N is defined & Increasing =false\n",
    "        print('Vandermonde Matrix when increasing is False ')\n",
    "        print(outputArray)                                         # Displaying the output when increasing order is False\n",
    "        print('\\nVandermonde Matrix when increasing is True ')     \n",
    "        outputArray = np.vander(inputArray,N,increasing=True)      # creating vander matrix when N is defined & Increasing =true\n",
    "        print(outputArray)\n",
    "    else:                                            \n",
    "        # N is undefined, so Square matrix is created based upon inputvector length\n",
    "        outputArray = np.vander(inputArray, N, increasing=False) # creating vander matrix when N is undefined & Increasing=false\n",
    "        print('Vandermonde Matrix when increasing order is False ')\n",
    "        print(outputArray)\n",
    "        # increasing order is True\n",
    "        outputArray = np.vander(inputArray,N,increasing=True)    # creating vander matrix when N is undefined & Increasing =true\n",
    "        print('Vandermonde Matrix when increasing order is True ')\n",
    "        print(np.flip(outputArray,axis=1)) \n",
    "        \n",
    "vanderMatrix([1,2,3,4,5],None)         # With N = None"
   ]
  },
  {
   "cell_type": "code",
   "execution_count": 8,
   "metadata": {
    "scrolled": false
   },
   "outputs": [
    {
     "name": "stdout",
     "output_type": "stream",
     "text": [
      "Vandermonde Matrix when increasing is False \n",
      "[[  1   1   1   1]\n",
      " [  8   4   2   1]\n",
      " [ 27   9   3   1]\n",
      " [ 64  16   4   1]\n",
      " [125  25   5   1]]\n",
      "\n",
      "Vandermonde Matrix when increasing is True \n",
      "[[  1   1   1   1]\n",
      " [  1   2   4   8]\n",
      " [  1   3   9  27]\n",
      " [  1   4  16  64]\n",
      " [  1   5  25 125]]\n"
     ]
    }
   ],
   "source": [
    "vanderMatrix([1,2,3,4,5],4)             # With N=4"
   ]
  },
  {
   "cell_type": "code",
   "execution_count": null,
   "metadata": {},
   "outputs": [],
   "source": []
  }
 ],
 "metadata": {
  "kernelspec": {
   "display_name": "Python 3",
   "language": "python",
   "name": "python3"
  },
  "language_info": {
   "codemirror_mode": {
    "name": "ipython",
    "version": 3
   },
   "file_extension": ".py",
   "mimetype": "text/x-python",
   "name": "python",
   "nbconvert_exporter": "python",
   "pygments_lexer": "ipython3",
   "version": "3.7.0"
  }
 },
 "nbformat": 4,
 "nbformat_minor": 2
}
